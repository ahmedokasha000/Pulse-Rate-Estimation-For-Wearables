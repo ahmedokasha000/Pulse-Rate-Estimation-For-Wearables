{
 "cells": [
  {
   "cell_type": "markdown",
   "metadata": {},
   "source": [
    "## Part 1: Pulse Rate Algorithm\n",
    "\n",
    "### Contents\n",
    "Fill out this notebook as part of your final project submission.\n",
    "\n",
    "**You will have to complete both the Code and Project Write-up sections.**\n",
    "- The [Code](#Code) is where you will write a **pulse rate algorithm** and already includes the starter code.\n",
    "   - Imports - These are the imports needed for Part 1 of the final project. \n",
    "     - [glob](https://docs.python.org/3/library/glob.html)\n",
    "     - [numpy](https://numpy.org/)\n",
    "     - [scipy](https://www.scipy.org/)\n",
    "- The [Project Write-up](#Project-Write-up) to describe why you wrote the algorithm for the specific case.\n",
    "\n",
    "\n",
    "### Dataset\n",
    "You will be using the **Troika**[1] dataset to build your algorithm. Find the dataset under `datasets/troika/training_data`. The `README` in that folder will tell you how to interpret the data. The starter code contains a function to help load these files.\n",
    "\n",
    "1. Zhilin Zhang, Zhouyue Pi, Benyuan Liu, ‘‘TROIKA: A General Framework for Heart Rate Monitoring Using Wrist-Type Photoplethysmographic Signals During Intensive Physical Exercise,’’IEEE Trans. on Biomedical Engineering, vol. 62, no. 2, pp. 522-531, February 2015. Link\n",
    "\n",
    "-----"
   ]
  },
  {
   "cell_type": "markdown",
   "metadata": {},
   "source": [
    "### Code"
   ]
  },
  {
   "cell_type": "code",
   "execution_count": 7,
   "metadata": {},
   "outputs": [],
   "source": [
    "import matplotlib.pyplot as plt\n",
    "import scipy.signal as sg\n",
    "import pandas as pd\n",
    "import copy\n",
    "from sklearn.ensemble import RandomForestRegressor\n",
    "from sklearn.model_selection import train_test_split\n",
    "import pickle\n",
    "from sklearn.metrics import mean_absolute_error, mean_squared_error\n",
    "%matplotlib qt"
   ]
  },
  {
   "cell_type": "code",
   "execution_count": 8,
   "metadata": {},
   "outputs": [],
   "source": [
    "import glob\n",
    "\n",
    "import numpy as np\n",
    "import scipy as sp\n",
    "import scipy.io\n",
    "\n",
    "\n",
    "def LoadTroikaDataset():\n",
    "    \"\"\"\n",
    "    Retrieve the .mat filenames for the troika dataset.\n",
    "\n",
    "    Review the README in ./datasets/troika/ to understand the organization of the .mat files.\n",
    "\n",
    "    Returns:\n",
    "        data_fls: Names of the .mat files that contain signal data\n",
    "        ref_fls: Names of the .mat files that contain reference data\n",
    "        <data_fls> and <ref_fls> are ordered correspondingly, so that ref_fls[5] is the \n",
    "            reference data for data_fls[5], etc...\n",
    "    \"\"\"\n",
    "    data_dir = \"./datasets/troika/training_data\"\n",
    "    data_fls = sorted(glob.glob(data_dir + \"/DATA_*.mat\"))\n",
    "    ref_fls = sorted(glob.glob(data_dir + \"/REF_*.mat\"))\n",
    "    return data_fls, ref_fls\n",
    "\n",
    "def LoadTroikaDataFile(data_fl):\n",
    "    \"\"\"\n",
    "    Loads and extracts signals from a troika data file.\n",
    "\n",
    "    Usage:\n",
    "        data_fls, ref_fls = LoadTroikaDataset()\n",
    "        ppg, accx, accy, accz = LoadTroikaDataFile(data_fls[0])\n",
    "\n",
    "    Args:\n",
    "        data_fl: (str) filepath to a troika .mat file.\n",
    "\n",
    "    Returns:\n",
    "        numpy arrays for ppg, accx, accy, accz signals.\n",
    "    \"\"\"\n",
    "    data = sp.io.loadmat(data_fl)['sig']\n",
    "    return data[2:]\n",
    "\n",
    "\n",
    "def AggregateErrorMetric(pr_errors, confidence_est):\n",
    "    \"\"\"\n",
    "    Computes an aggregate error metric based on confidence estimates.\n",
    "\n",
    "    Computes the MAE at 90% availability. \n",
    "\n",
    "    Args:\n",
    "        pr_errors: a numpy array of errors between pulse rate estimates and corresponding \n",
    "            reference heart rates.\n",
    "        confidence_est: a numpy array of confidence estimates for each pulse rate\n",
    "            error.\n",
    "\n",
    "    Returns:\n",
    "        the MAE at 90% availability\n",
    "    \"\"\"\n",
    "    # Higher confidence means a better estimate. The best 90% of the estimates\n",
    "    #    are above the 10th percentile confidence.\n",
    "    percentile90_confidence = np.percentile(confidence_est, 10)\n",
    "\n",
    "    # Find the errors of the best pulse rate estimates\n",
    "    best_estimates = pr_errors[confidence_est >= percentile90_confidence]\n",
    "\n",
    "    # Return the mean absolute error\n",
    "    return np.mean(np.abs(best_estimates))\n",
    "\n",
    "def Evaluate():\n",
    "    \"\"\"\n",
    "    Top-level function evaluation function.\n",
    "\n",
    "    Runs the pulse rate algorithm on the Troika dataset and returns an aggregate error metric.\n",
    "\n",
    "    Returns:\n",
    "        Pulse rate error on the Troika dataset. See AggregateErrorMetric.\n",
    "    \"\"\"\n",
    "    # Retrieve dataset files\n",
    "    data_fls, ref_fls = LoadTroikaDataset()\n",
    "    errs, confs = [], []\n",
    "    for data_fl, ref_fl in zip(data_fls, ref_fls):\n",
    "        # Run the pulse rate algorithm on each trial in the dataset\n",
    "        errors, confidence = RunPulseRateAlgorithm(data_fl, ref_fl)\n",
    "        errs.append(errors)\n",
    "        confs.append(confidence)\n",
    "        # Compute aggregate error metric\n",
    "    errs = np.hstack(errs)\n",
    "    confs = np.hstack(confs)\n",
    "    return AggregateErrorMetric(errs, confs)\n",
    "\n",
    "def RunPulseRateAlgorithm(data_fl, ref_fl):\n",
    "    # Load data using LoadTroikaDataFile\n",
    "    ppg, accx, accy, accz = LoadTroikaDataFile(data_fl)\n",
    "\n",
    "    # Compute pulse rate estimates and estimation confidence.\n",
    "\n",
    "    # Return per-estimate mean absolute error and confidence as a 2-tuple of numpy arrays.\n",
    "    errors, confidence = np.ones(100), np.ones(100)  # Dummy placeholders. Remove\n",
    "    return errors, confidence"
   ]
  },
  {
   "cell_type": "code",
   "execution_count": 9,
   "metadata": {},
   "outputs": [],
   "source": [
    "def Load_labels(data_fl,ts):\n",
    "    \"\"\"\n",
    "    Loads and extracts signals from a troika data file.\n",
    "    Perform interpolation for converting the data to the TS of the measurements\n",
    "    Args:\n",
    "        data_fl: (str) filepath to a troika .mat file.\n",
    "        ts: time stamp of the sensors measurements\n",
    "    Returns:\n",
    "        numpy arrays for ppg, accx, accy, accz signals.\n",
    "    \"\"\"\n",
    "    # as mentioed in the dataset read_me the ref value is obtained using a window of 8s and 6s overlap\n",
    "    # so we can assume that the sample freq of the ref data is 2s\n",
    "    fs_labels=2\n",
    "    data = sp.io.loadmat(data_fl)['BPM0']\n",
    "    ts_labels=np.arange(0,len(data)/fs_labels,1/fs_labels)\n",
    "    labels_interp=np.interp(ts,ts_labels,data[:,0])\n",
    "    return labels_interp"
   ]
  },
  {
   "cell_type": "code",
   "execution_count": 10,
   "metadata": {},
   "outputs": [],
   "source": [
    "\n",
    "def butter_bandpass(data,rang,fs):\n",
    "    results=[]\n",
    "    zeros,poles=sg.butter(5,rang,btype=\"bandpass\",fs=fs)\n",
    "    for key in data :\n",
    "        results.append(sg.filtfilt(zeros,poles,key))\n",
    "    return results\n",
    "    "
   ]
  },
  {
   "cell_type": "code",
   "execution_count": 11,
   "metadata": {},
   "outputs": [],
   "source": [
    "def fft_sensors(data,fs):\n",
    "    ff_data=[]\n",
    "    for key in data :\n",
    "        ff_freq=np.fft.rfftfreq(len(key),1./fs)\n",
    "        ff_power=np.fft.rfft(key)\n",
    "        ff_data.append(np.array([ff_freq,ff_power]))\n",
    "    return ff_data\n",
    "def fft_inv(fftdata):\n",
    "    data={}\n",
    "    for key in fftdata :\n",
    "        data[key]=np.fft.irfft(fftdata[key][1])\n",
    "    return data"
   ]
  },
  {
   "cell_type": "code",
   "execution_count": 12,
   "metadata": {},
   "outputs": [],
   "source": [
    "def vizualize_data(data_dict_fs,wind_title,xlim,vtype=\"freq\"):\n",
    "    len_dict=len(data_dict_fs)\n",
    "    plt.clf\n",
    "    fig,ax=plt.subplots(len_dict,1,figsize=(10,6*len_dict))\n",
    "    fig.canvas.set_window_title(wind_title)\n",
    "    ax=ax.flatten()\n",
    "    for key,axes in zip(data_dict_fs,ax):\n",
    "        if type==\"freq\":\n",
    "            power=np.abs(key[0])\n",
    "            freqs=np.abs(key[1])\n",
    "            axes.plot(freqs,power,label=key)\n",
    "            axes.set_xlabel(key)\n",
    "            axes.set_xlim(xlim)\n",
    "            axes.legend()\n",
    "        else:\n",
    "            axes.plot(key)\n",
    "            #axes.set_xlabel(key)\n",
    "            axes.set_xlim(xlim)\n",
    "            axes.legend()\n",
    "            \n",
    "        #axes.set_xlabel('Time (sec)')"
   ]
  },
  {
   "cell_type": "code",
   "execution_count": 13,
   "metadata": {},
   "outputs": [],
   "source": [
    "def load_all_dataset(data_fls,ref_fls,fs):\n",
    "    '''\n",
    "    Load data, labels from all files, split, shuffle\n",
    "    return samples and their labels\n",
    "    each sample is a window of 6 seconds and shifted 2 s from the previoues one\n",
    "    '''\n",
    "    X=[]\n",
    "    Y=[]\n",
    "    window_size= 6 #seconds\n",
    "    window_overlab=4 #seconds to give reading each 2 s\n",
    "    window_len=6*fs\n",
    "    window_shift_len=(window_size-window_overlab)*fs\n",
    "    #### Read All Files\n",
    "    dataset={\"ppg\":[],\n",
    "            \"accx\":[],\n",
    "            \"accy\":[],\n",
    "            \"accz\":[],\n",
    "            \"labels\":[]}\n",
    "    for data_file,ref_file in zip(data_fls, ref_fls):\n",
    "        ppg, accx, accy, accz= LoadTroikaDataFile(data_file)\n",
    "        dataset[\"ppg\"].extend(ppg)\n",
    "        dataset[\"accx\"].extend(accx)\n",
    "        dataset[\"accy\"].extend(accy)\n",
    "        dataset[\"accz\"].extend(accz)\n",
    "        ts=np.arange(0,len(ppg)/fs,1/fs)\n",
    "        labels=Load_labels(ref_file,ts)\n",
    "        labels/=60.\n",
    "        dataset[\"labels\"].extend(labels)\n",
    "    df=pd.DataFrame(dataset)\n",
    "    ### Convert dataframe to samples each one is shifted 2s\n",
    "    number_samples=int(len(df)/window_shift_len)\n",
    "    for window_ind  in range(number_samples):\n",
    "        sample_start=int(window_ind*window_shift_len)\n",
    "        sample_end=int(sample_start+window_len)\n",
    "        ppg=df[\"ppg\"][sample_start:sample_end].values\n",
    "        accx=df[\"accx\"][sample_start:sample_end].values\n",
    "        accy=df[\"accy\"][sample_start:sample_end].values\n",
    "        accz=df[\"accz\"][sample_start:sample_end].values\n",
    "        labels=df[\"labels\"][sample_start:sample_end].values\n",
    "        X.append(np.array([ppg,accx,accy,accz]))\n",
    "        Y.append(np.array([labels]))\n",
    "\n",
    "    return X,Y"
   ]
  },
  {
   "cell_type": "code",
   "execution_count": 14,
   "metadata": {},
   "outputs": [],
   "source": [
    "def clean_datset(samples,labels,fs):\n",
    "    '''\n",
    "    this function should output cleaned data ready for featurization process\n",
    "    returns fourier transform of samples, filtered time sample\n",
    "    '''\n",
    "    \n",
    "    clean_x=[]\n",
    "    clean_y=[]\n",
    "    for sample,label in zip(samples,labels):\n",
    "        bandpass_filtered=butter_bandpass(sample,(0.7,4),fs)\n",
    "        fft_sample=fft_sensors(bandpass_filtered,fs)\n",
    "        clean_x.append((bandpass_filtered,fft_sample))\n",
    "        clean_y.append([np.mean(label)])\n",
    "    return (clean_x,clean_y)\n"
   ]
  },
  {
   "cell_type": "code",
   "execution_count": 15,
   "metadata": {},
   "outputs": [],
   "source": [
    "def remove_powerful_acc_freqs_from_ppg(peaks_freq_ppg,peaks_freqs_ppg_vals,peaks_freq_acc):\n",
    "    if len(peaks_freq_ppg)>1 :\n",
    "        sorted_ppg_freqs=peaks_freq_ppg[np.argsort(peaks_freqs_ppg_vals)]\n",
    "        sorted_ppg_powers=peaks_freqs_ppg_vals[np.argsort(peaks_freqs_ppg_vals)]\n",
    "        ppg_freqs_acc_removed=[]\n",
    "        ppg_freqs_acc_removed_val=[]\n",
    "        for freq,power in zip(sorted_ppg_freqs,sorted_ppg_powers) :\n",
    "            flag=0\n",
    "            for acc_freq in peaks_freq_acc:\n",
    "                if (freq+0.15<=acc_freq) & (acc_freq<=freq+0.15):\n",
    "                    flag=1\n",
    "                    break\n",
    "            if flag==0:\n",
    "                ppg_freqs_acc_removed.append(freq)\n",
    "                ppg_freqs_acc_removed_val.append(power)\n",
    "\n",
    "        ppg_1st_power_freq_acc_removed=ppg_freqs_acc_removed[-1]\n",
    "        ppg_1st_power_freq_acc_removed_val=ppg_freqs_acc_removed_val[-1]\n",
    "    else:\n",
    "        ppg_1st_power_freq_acc_removed=peaks_freq_ppg[-1]\n",
    "        ppg_1st_power_freq_acc_removed_val=peaks_freqs_ppg_vals[-1]\n",
    "    return (ppg_1st_power_freq_acc_removed,ppg_1st_power_freq_acc_removed_val)"
   ]
  },
  {
   "cell_type": "code",
   "execution_count": 16,
   "metadata": {},
   "outputs": [],
   "source": [
    "def featurize_samples(samples,fs):\n",
    "    '''\n",
    "    samples->(time_data,freq_data)->(ppg,accx,accy,accz)\n",
    "                                    ->fppg,faccx,faccy,faccz->freqs,power\n",
    "    get impoartant time & freq features for each samle\n",
    "    '''\n",
    "    features=[]\n",
    "    for sample in samples:\n",
    "        ##extract each sample to each sensor time & freq data\n",
    "        ppg_t=sample[0][0]\n",
    "        accx_t=sample[0][1]\n",
    "        accy_t=sample[0][2]\n",
    "        accz_t=sample[0][3]\n",
    "        freqs=np.abs(sample[1][0][0])\n",
    "        ppg_f=np.abs(sample[1][0][1])\n",
    "        accx_f=np.abs(sample[1][1][1])\n",
    "        accy_f=np.abs(sample[1][2][1])\n",
    "        accz_f=np.abs(sample[1][3][1])\n",
    "        acc_all_f=(accx_f+accy_f+accz_f)/3.\n",
    "        ##ppg power with top 20 strongest acc freqs scaled down\n",
    "        #ppg_f_acc_removed=ppg_f[(-acc_all).argsort()[:20]] = 0.1\n",
    "        \n",
    "        ##Time features\n",
    "        peaks,_=sg.find_peaks(ppg_t,height=1.5,distance=30) ## minimum 0.25s distance\n",
    "        peaks_dif=np.diff(peaks)/60.\n",
    "        min_peak=np.min(peaks_dif)\n",
    "        max_peak=np.max(peaks_dif)\n",
    "        mean_peak=np.mean(peaks_dif)\n",
    "        std_peak=np.std(peaks_dif)\n",
    "        ###peaks for ppg freqs & their power\n",
    "        peaks_freq_ppg,_=sg.find_peaks(ppg_f,distance=3)## minimum 1/3Hz distance\n",
    "        peaks_freqs_ppg_vals=ppg_f[peaks_freq_ppg]\n",
    "        peaks_freq_ppg=freqs[peaks_freq_ppg]\n",
    "        peaks_freqs_ppg_vals=peaks_freqs_ppg_vals[(peaks_freq_ppg<4.) &(peaks_freq_ppg>0.67)]\n",
    "        peaks_freq_ppg=peaks_freq_ppg[(peaks_freq_ppg<4.) &(peaks_freq_ppg>0.67)]\n",
    "        ###peaks for accel freqs & their power\n",
    "        peaks_freq_acc,_=sg.find_peaks(acc_all_f,distance=3)## minimum 1/3Hz distance\n",
    "        peaks_freqs_acc_vals=acc_all_f[peaks_freq_acc]\n",
    "        peaks_freq_acc=freqs[peaks_freq_acc]\n",
    "        peaks_freqs_acc_vals=peaks_freqs_acc_vals[(peaks_freq_acc<4.) &(peaks_freq_acc>0.67)]\n",
    "        peaks_freq_acc=peaks_freq_acc[(peaks_freq_acc<4.) &(peaks_freq_acc>0.67)]\n",
    "        ##freq features for ppg\n",
    "        ppg_freq_mean=np.mean(peaks_freq_ppg)\n",
    "        ppg_freq_std=np.std(peaks_freq_ppg)\n",
    "        ppg_1st_power_freq=peaks_freq_ppg[np.argsort(peaks_freqs_ppg_vals)][-1]\n",
    "        ppg_1st_power_freq_val=peaks_freqs_ppg_vals[np.argsort(peaks_freqs_ppg_vals)][-1]\n",
    "        ppg_1st_freq_acc_fil,ppg_1st_freq_acc_fil_val=remove_powerful_acc_freqs_from_ppg(peaks_freq_ppg,peaks_freqs_ppg_vals,peaks_freq_acc)\n",
    "\n",
    "        ###freq features for acc\n",
    "        acc_all_freq_mean=np.mean(peaks_freq_acc)\n",
    "        acc_all_freq_std=np.std(peaks_freq_acc)\n",
    "        acc_all_max_strong_freq=peaks_freq_acc[np.argsort(peaks_freqs_acc_vals)][-1]\n",
    "        acc_all_max_strong_freq_power=peaks_freqs_acc_vals[np.argsort(peaks_freqs_acc_vals)][-1]\n",
    "        \n",
    "        time_features=[min_peak,max_peak,mean_peak,std_peak]\n",
    "        freq_features=[ppg_freq_mean,ppg_freq_std,ppg_1st_power_freq,\n",
    "                       ppg_1st_power_freq_val,ppg_1st_freq_acc_fil,\n",
    "                      ppg_1st_freq_acc_fil_val,acc_all_freq_mean,\n",
    "                      acc_all_freq_std,acc_all_max_strong_freq,\n",
    "                      acc_all_max_strong_freq_power]\n",
    "        total_features=time_features+freq_features\n",
    "        features.append(np.array(total_features))\n",
    "\n",
    "    return np.array(features)\n",
    "    "
   ]
  },
  {
   "cell_type": "code",
   "execution_count": 17,
   "metadata": {
    "scrolled": true
   },
   "outputs": [],
   "source": [
    "def model_train():\n",
    "    ##Reading ref and sensors data, create timestamp for both\n",
    "    fs=125\n",
    "    data_fls, ref_fls = LoadTroikaDataset()\n",
    "    samples,labels=load_all_dataset(data_fls,ref_fls,fs)\n",
    "    clean_x,clean_y=clean_datset(samples,labels,fs)\n",
    "    '''\n",
    "    samples->(time_data,freq_data)->(ppg,accx,accy,accz)\n",
    "                                    ->fppg,faccx,faccy,faccz->freqs,power\n",
    "    '''\n",
    "    dataset_feats=featurize_samples(clean_x,fs)\n",
    "    train_x,test_x,train_y,test_y=train_test_split(dataset_feats,\n",
    "                                                   clean_y,random_state=42,\n",
    "                                                  test_size=0.2)\n",
    "    estimators=250\n",
    "    depthh=4\n",
    "    clf = RandomForestRegressor(n_estimators=estimators,max_depth=depthh,\n",
    "                                    random_state=42)\n",
    "    clf.fit(train_x,np.ravel(train_y))\n",
    "    y_pred = clf.predict(test_x)\n",
    "    mae_val=mean_absolute_error(y_pred*60.,np.array(test_y)*60.) ## *60 toconvert from Hz t BPM\n",
    "    mse_val=mean_squared_error(y_pred*60,np.array(test_y)*60) ## *60 to convert from Hz t BPM\n",
    "    #res={\"label\":np.ravel(test_y)*60,\"prediction\":y_pred*60}\n",
    "    print(\"Model Results : \\n\")\n",
    "    print(\"mean absolute error\",mae_val)\n",
    "    print(\"mean square error\",mse_val)\n",
    "    with open('../model_06_20', 'wb') as f:\n",
    "        pickle.dump(clf, f)\n",
    "        print(\"model saved in the following dir: '../model_06_20'\")"
   ]
  },
  {
   "cell_type": "code",
   "execution_count": 19,
   "metadata": {},
   "outputs": [
    {
     "name": "stdout",
     "output_type": "stream",
     "text": [
      "Model Results : \n",
      "\n",
      "mean absolute error 10.769998236636148\n",
      "mean square error 225.33267407435142\n",
      "model saved in the following dir: '../model_06_20'\n"
     ]
    }
   ],
   "source": [
    "model_train()"
   ]
  },
  {
   "cell_type": "code",
   "execution_count": 169,
   "metadata": {},
   "outputs": [],
   "source": [
    "res={\"label\":np.ravel(test_y)*60,\"prediction\":y_pred*60}"
   ]
  },
  {
   "cell_type": "code",
   "execution_count": 170,
   "metadata": {},
   "outputs": [],
   "source": [
    "res=pd.DataFrame(res)"
   ]
  },
  {
   "cell_type": "code",
   "execution_count": 171,
   "metadata": {},
   "outputs": [
    {
     "data": {
      "text/html": [
       "<div>\n",
       "<style scoped>\n",
       "    .dataframe tbody tr th:only-of-type {\n",
       "        vertical-align: middle;\n",
       "    }\n",
       "\n",
       "    .dataframe tbody tr th {\n",
       "        vertical-align: top;\n",
       "    }\n",
       "\n",
       "    .dataframe thead th {\n",
       "        text-align: right;\n",
       "    }\n",
       "</style>\n",
       "<table border=\"1\" class=\"dataframe\">\n",
       "  <thead>\n",
       "    <tr style=\"text-align: right;\">\n",
       "      <th></th>\n",
       "      <th>label</th>\n",
       "      <th>prediction</th>\n",
       "    </tr>\n",
       "  </thead>\n",
       "  <tbody>\n",
       "    <tr>\n",
       "      <th>152</th>\n",
       "      <td>154.220779</td>\n",
       "      <td>159.401250</td>\n",
       "    </tr>\n",
       "    <tr>\n",
       "      <th>212</th>\n",
       "      <td>157.397700</td>\n",
       "      <td>153.400853</td>\n",
       "    </tr>\n",
       "    <tr>\n",
       "      <th>313</th>\n",
       "      <td>168.089600</td>\n",
       "      <td>145.938054</td>\n",
       "    </tr>\n",
       "    <tr>\n",
       "      <th>100</th>\n",
       "      <td>144.102290</td>\n",
       "      <td>141.094731</td>\n",
       "    </tr>\n",
       "    <tr>\n",
       "      <th>13</th>\n",
       "      <td>151.757188</td>\n",
       "      <td>147.998289</td>\n",
       "    </tr>\n",
       "    <tr>\n",
       "      <th>252</th>\n",
       "      <td>156.576200</td>\n",
       "      <td>151.912762</td>\n",
       "    </tr>\n",
       "    <tr>\n",
       "      <th>122</th>\n",
       "      <td>147.912700</td>\n",
       "      <td>139.686965</td>\n",
       "    </tr>\n",
       "    <tr>\n",
       "      <th>32</th>\n",
       "      <td>80.732000</td>\n",
       "      <td>110.241714</td>\n",
       "    </tr>\n",
       "    <tr>\n",
       "      <th>345</th>\n",
       "      <td>174.403514</td>\n",
       "      <td>147.145321</td>\n",
       "    </tr>\n",
       "    <tr>\n",
       "      <th>249</th>\n",
       "      <td>164.956000</td>\n",
       "      <td>161.298668</td>\n",
       "    </tr>\n",
       "    <tr>\n",
       "      <th>1</th>\n",
       "      <td>135.206787</td>\n",
       "      <td>140.596761</td>\n",
       "    </tr>\n",
       "    <tr>\n",
       "      <th>172</th>\n",
       "      <td>164.956000</td>\n",
       "      <td>161.359882</td>\n",
       "    </tr>\n",
       "    <tr>\n",
       "      <th>339</th>\n",
       "      <td>146.153800</td>\n",
       "      <td>140.613979</td>\n",
       "    </tr>\n",
       "    <tr>\n",
       "      <th>308</th>\n",
       "      <td>170.041438</td>\n",
       "      <td>161.356250</td>\n",
       "    </tr>\n",
       "    <tr>\n",
       "      <th>235</th>\n",
       "      <td>154.220779</td>\n",
       "      <td>156.390606</td>\n",
       "    </tr>\n",
       "  </tbody>\n",
       "</table>\n",
       "</div>"
      ],
      "text/plain": [
       "          label  prediction\n",
       "152  154.220779  159.401250\n",
       "212  157.397700  153.400853\n",
       "313  168.089600  145.938054\n",
       "100  144.102290  141.094731\n",
       "13   151.757188  147.998289\n",
       "252  156.576200  151.912762\n",
       "122  147.912700  139.686965\n",
       "32    80.732000  110.241714\n",
       "345  174.403514  147.145321\n",
       "249  164.956000  161.298668\n",
       "1    135.206787  140.596761\n",
       "172  164.956000  161.359882\n",
       "339  146.153800  140.613979\n",
       "308  170.041438  161.356250\n",
       "235  154.220779  156.390606"
      ]
     },
     "execution_count": 171,
     "metadata": {},
     "output_type": "execute_result"
    }
   ],
   "source": [
    "res.sample(15)"
   ]
  },
  {
   "cell_type": "code",
   "execution_count": 172,
   "metadata": {
    "scrolled": true
   },
   "outputs": [
    {
     "data": {
      "text/plain": [
       "10.769998236636148"
      ]
     },
     "execution_count": 172,
     "metadata": {},
     "output_type": "execute_result"
    }
   ],
   "source": [
    "mean_absolute_error(y_pred*60.,np.array(test_y)*60.)"
   ]
  },
  {
   "cell_type": "code",
   "execution_count": 173,
   "metadata": {},
   "outputs": [
    {
     "data": {
      "text/plain": [
       "225.33267407435142"
      ]
     },
     "execution_count": 173,
     "metadata": {},
     "output_type": "execute_result"
    }
   ],
   "source": [
    "mean_squared_error(y_pred*60,np.array(test_y)*60)"
   ]
  },
  {
   "cell_type": "code",
   "execution_count": 28,
   "metadata": {},
   "outputs": [],
   "source": [
    "#def RunPulseRateAlgorithm(data_fl, ref_fl):\n",
    "# Load data using LoadTroikaDataFile\n",
    "fs=125\n",
    "samples,labels=load_all_dataset(data_fl,ref_fl,fs)\n",
    "clean_x,clean_y=clean_datset(samples,labels,fs)\n",
    "file_samples_x=featurize_samples(clean_x,fs)\n",
    "file_samples_y=clean_y\n",
    "#ppg, accx, accy, accz = LoadTroikaDataFile(data_fl)\n",
    "reg_model=load_model()\n",
    "samples_pred = reg_model.predict(file_samples_x)\n",
    "mae_val=mean_absolute_error(samples_pred*60.,np.array(file_samples_y)*60.) ## *60 toconvert from Hz t BPM\n",
    "# Compute pulse rate estimates and estimation confidence.\n",
    "for ind in range(len(clean_y)) :\n",
    "    true_freq=clean_y[ind]\n",
    "    pred_freq=samples_pred[ind]\n",
    "    fft_freqs=clean_x[ind][1][0][0]\n",
    "    fft_f_power=clean_x[ind][1][0][1]\n",
    "\n",
    "# Return per-estimate mean absolute error and confidence as a 2-tuple of numpy arrays.\n",
    "errors, confidence = np.ones(100), np.ones(100)  # Dummy placeholders. Remove\n",
    "#    return mae_val, confidence\n",
    "\n",
    "\n",
    "\n",
    "\n",
    "# in your prediction file                                                                                                                                                                                                           \n",
    "def load_model():\n",
    "    with open('../model_06_20', 'rb') as f:\n",
    "        prediction_model = pickle.load(f)\n",
    "    return prediction_model\n",
    "\n",
    "\n"
   ]
  },
  {
   "cell_type": "code",
   "execution_count": 29,
   "metadata": {},
   "outputs": [],
   "source": [
    "data_flss, ref_flss = LoadTroikaDataset()"
   ]
  },
  {
   "cell_type": "code",
   "execution_count": 30,
   "metadata": {},
   "outputs": [
    {
     "data": {
      "text/plain": [
       "('./datasets/troika/training_data/DATA_01_TYPE01.mat',\n",
       " './datasets/troika/training_data/REF_01_TYPE01.mat')"
      ]
     },
     "execution_count": 30,
     "metadata": {},
     "output_type": "execute_result"
    }
   ],
   "source": [
    "data_flss[0],ref_flss[0]"
   ]
  },
  {
   "cell_type": "code",
   "execution_count": 31,
   "metadata": {},
   "outputs": [
    {
     "data": {
      "text/plain": [
       "(8.993716084212801,\n",
       " array([1., 1., 1., 1., 1., 1., 1., 1., 1., 1., 1., 1., 1., 1., 1., 1., 1.,\n",
       "        1., 1., 1., 1., 1., 1., 1., 1., 1., 1., 1., 1., 1., 1., 1., 1., 1.,\n",
       "        1., 1., 1., 1., 1., 1., 1., 1., 1., 1., 1., 1., 1., 1., 1., 1., 1.,\n",
       "        1., 1., 1., 1., 1., 1., 1., 1., 1., 1., 1., 1., 1., 1., 1., 1., 1.,\n",
       "        1., 1., 1., 1., 1., 1., 1., 1., 1., 1., 1., 1., 1., 1., 1., 1., 1.,\n",
       "        1., 1., 1., 1., 1., 1., 1., 1., 1., 1., 1., 1., 1., 1., 1.]))"
      ]
     },
     "execution_count": 31,
     "metadata": {},
     "output_type": "execute_result"
    }
   ],
   "source": [
    "RunPulseRateAlgorithm([data_flss[1]], [ref_flss[1]])"
   ]
  },
  {
   "cell_type": "code",
   "execution_count": 93,
   "metadata": {},
   "outputs": [
    {
     "data": {
      "text/plain": [
       "[<matplotlib.lines.Line2D at 0x7f82acc92510>]"
      ]
     },
     "execution_count": 93,
     "metadata": {},
     "output_type": "execute_result"
    }
   ],
   "source": [
    "# fig,axes=plt.subplots(2,1,figsize=(12,16))\n",
    "# axes=axes.flatten()\n",
    "plt.clf\n",
    "plt.plot(freqs,ppg_f,\"c\",label='ppg')\n",
    "plt.plot(freqs[peaks_freq_ppg],ppg_f[peaks_freq_ppg],\"r.\",label=\"ppg peaks\")\n",
    "plt.plot(freqs,acc_all_f,\"b\",label='acc')\n",
    "plt.plot(freqs[peaks_freq_acc],acc_all_f[peaks_freq_acc],\"g.\",label=\"peaks\")"
   ]
  },
  {
   "cell_type": "markdown",
   "metadata": {},
   "source": [
    "Pack all data into single dictionary"
   ]
  },
  {
   "cell_type": "markdown",
   "metadata": {},
   "source": [
    "Filter frequencies between 40-240 PBM"
   ]
  },
  {
   "cell_type": "code",
   "execution_count": null,
   "metadata": {},
   "outputs": [],
   "source": [
    "#do visualization here\n",
    "\n",
    "#Spectugram visualizations\n",
    "spec_raw=vizualize_spectugram(sensors_data,ts,\n",
    "                     wind_title=\"raw_data\",\n",
    "                     ylim=(0,6))\n",
    "spec_filtered=vizualize_spectugram(data_filtered,ts,\n",
    "                     wind_title=\"0.5-6.0Hz filtered\",\n",
    "                     ylim=(0,6))\n",
    "spec_acc_freqs_removed=vizualize_spectugram(filtered_from_acc_data,ts,\n",
    "                     wind_title=\"powerful_acc_freqs_filtered\",\n",
    "                     ylim=(0,6))\n"
   ]
  },
  {
   "cell_type": "markdown",
   "metadata": {},
   "source": [
    "ended here  create rolling window over labels to conver to 1 s measurement"
   ]
  },
  {
   "cell_type": "code",
   "execution_count": null,
   "metadata": {},
   "outputs": [],
   "source": [
    "#Freq visualizations\n",
    "#%matplotlib inline\n",
    "vizualize_data(fft_data,\n",
    "               wind_title=\"Freq Domain\",\n",
    "               xlim=(0,6)\n",
    "              )\n",
    "vizualize_data(fft_filtered_data,\n",
    "               wind_title=\"PPG filtered from powerful acc freqs\",\n",
    "               xlim=(0,6)\n",
    "              )"
   ]
  },
  {
   "cell_type": "code",
   "execution_count": null,
   "metadata": {},
   "outputs": [],
   "source": [
    "vizualize_data(data_filtered,\n",
    "               wind_title=\"time filtered Domain\",\n",
    "              xlim=(0,10000),\n",
    "               type=\"time\"\n",
    "              )"
   ]
  },
  {
   "cell_type": "code",
   "execution_count": null,
   "metadata": {},
   "outputs": [],
   "source": [
    "vizualize_data(filtered_from_acc_data,\n",
    "               wind_title=\"time acc removed Domain\",\n",
    "              xlim=(0,10000),\n",
    "               type=\"time\"\n",
    "              )"
   ]
  },
  {
   "cell_type": "markdown",
   "metadata": {},
   "source": [
    "-----\n",
    "### Project Write-up\n",
    "\n",
    "Answer the following prompts to demonstrate understanding of the algorithm you wrote for this specific context.\n",
    "\n",
    "> - **Code Description** - Include details so someone unfamiliar with your project will know how to run your code and use your algorithm. \n",
    "> - **Data Description** - Describe the dataset that was used to train and test the algorithm. Include its short-comings and what data would be required to build a more complete dataset.\n",
    "> - **Algorithhm Description** will include the following:\n",
    ">   - how the algorithm works\n",
    ">   - the specific aspects of the physiology that it takes advantage of\n",
    ">   - a describtion of the algorithm outputs\n",
    ">   - caveats on algorithm outputs \n",
    ">   - common failure modes\n",
    "> - **Algorithm Performance** - Detail how performance was computed (eg. using cross-validation or train-test split) and what metrics were optimized for. Include error metrics that would be relevant to users of your algorithm. Caveat your performance numbers by acknowledging how generalizable they may or may not be on different datasets.\n",
    "\n",
    "Your write-up goes here..."
   ]
  },
  {
   "cell_type": "markdown",
   "metadata": {},
   "source": [
    "-----\n",
    "### Next Steps\n",
    "You will now go to **Test Your Algorithm** (back in the Project Classroom) to apply a unit test to confirm that your algorithm met the success criteria. "
   ]
  }
 ],
 "metadata": {
  "kernelspec": {
   "display_name": "Python 3",
   "language": "python",
   "name": "python3"
  },
  "language_info": {
   "codemirror_mode": {
    "name": "ipython",
    "version": 3
   },
   "file_extension": ".py",
   "mimetype": "text/x-python",
   "name": "python",
   "nbconvert_exporter": "python",
   "pygments_lexer": "ipython3",
   "version": "3.7.6"
  }
 },
 "nbformat": 4,
 "nbformat_minor": 4
}
