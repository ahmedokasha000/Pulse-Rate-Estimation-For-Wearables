{
 "cells": [
  {
   "cell_type": "markdown",
   "metadata": {},
   "source": [
    "## Part 1: Pulse Rate Algorithm\n",
    "\n",
    "### Contents\n",
    "Fill out this notebook as part of your final project submission.\n",
    "\n",
    "**You will have to complete both the Code and Project Write-up sections.**\n",
    "- The [Code](#Code) is where you will write a **pulse rate algorithm** and already includes the starter code.\n",
    "   - Imports - These are the imports needed for Part 1 of the final project. \n",
    "     - [glob](https://docs.python.org/3/library/glob.html)\n",
    "     - [numpy](https://numpy.org/)\n",
    "     - [scipy](https://www.scipy.org/)\n",
    "- The [Project Write-up](#Project-Write-up) to describe why you wrote the algorithm for the specific case.\n",
    "\n",
    "\n",
    "### Dataset\n",
    "You will be using the **Troika**[1] dataset to build your algorithm. Find the dataset under `datasets/troika/training_data`. The `README` in that folder will tell you how to interpret the data. The starter code contains a function to help load these files.\n",
    "\n",
    "1. Zhilin Zhang, Zhouyue Pi, Benyuan Liu, ‘‘TROIKA: A General Framework for Heart Rate Monitoring Using Wrist-Type Photoplethysmographic Signals During Intensive Physical Exercise,’’IEEE Trans. on Biomedical Engineering, vol. 62, no. 2, pp. 522-531, February 2015. Link\n",
    "\n",
    "-----"
   ]
  },
  {
   "cell_type": "markdown",
   "metadata": {},
   "source": [
    "### Code"
   ]
  },
  {
   "cell_type": "code",
   "execution_count": 1,
   "metadata": {},
   "outputs": [],
   "source": [
    "import matplotlib.pyplot as plt\n",
    "import scipy.signal as sg\n",
    "%matplotlib qt"
   ]
  },
  {
   "cell_type": "code",
   "execution_count": 2,
   "metadata": {},
   "outputs": [],
   "source": [
    "import glob\n",
    "\n",
    "import numpy as np\n",
    "import scipy as sp\n",
    "import scipy.io\n",
    "\n",
    "\n",
    "def LoadTroikaDataset():\n",
    "    \"\"\"\n",
    "    Retrieve the .mat filenames for the troika dataset.\n",
    "\n",
    "    Review the README in ./datasets/troika/ to understand the organization of the .mat files.\n",
    "\n",
    "    Returns:\n",
    "        data_fls: Names of the .mat files that contain signal data\n",
    "        ref_fls: Names of the .mat files that contain reference data\n",
    "        <data_fls> and <ref_fls> are ordered correspondingly, so that ref_fls[5] is the \n",
    "            reference data for data_fls[5], etc...\n",
    "    \"\"\"\n",
    "    data_dir = \"./datasets/troika/training_data\"\n",
    "    data_fls = sorted(glob.glob(data_dir + \"/DATA_*.mat\"))\n",
    "    ref_fls = sorted(glob.glob(data_dir + \"/REF_*.mat\"))\n",
    "    return data_fls, ref_fls\n",
    "\n",
    "def LoadTroikaDataFile(data_fl):\n",
    "    \"\"\"\n",
    "    Loads and extracts signals from a troika data file.\n",
    "\n",
    "    Usage:\n",
    "        data_fls, ref_fls = LoadTroikaDataset()\n",
    "        ppg, accx, accy, accz = LoadTroikaDataFile(data_fls[0])\n",
    "\n",
    "    Args:\n",
    "        data_fl: (str) filepath to a troika .mat file.\n",
    "\n",
    "    Returns:\n",
    "        numpy arrays for ppg, accx, accy, accz signals.\n",
    "    \"\"\"\n",
    "    data = sp.io.loadmat(data_fl)['sig']\n",
    "    return data[2:]\n",
    "\n",
    "\n",
    "def AggregateErrorMetric(pr_errors, confidence_est):\n",
    "    \"\"\"\n",
    "    Computes an aggregate error metric based on confidence estimates.\n",
    "\n",
    "    Computes the MAE at 90% availability. \n",
    "\n",
    "    Args:\n",
    "        pr_errors: a numpy array of errors between pulse rate estimates and corresponding \n",
    "            reference heart rates.\n",
    "        confidence_est: a numpy array of confidence estimates for each pulse rate\n",
    "            error.\n",
    "\n",
    "    Returns:\n",
    "        the MAE at 90% availability\n",
    "    \"\"\"\n",
    "    # Higher confidence means a better estimate. The best 90% of the estimates\n",
    "    #    are above the 10th percentile confidence.\n",
    "    percentile90_confidence = np.percentile(confidence_est, 10)\n",
    "\n",
    "    # Find the errors of the best pulse rate estimates\n",
    "    best_estimates = pr_errors[confidence_est >= percentile90_confidence]\n",
    "\n",
    "    # Return the mean absolute error\n",
    "    return np.mean(np.abs(best_estimates))\n",
    "\n",
    "def Evaluate():\n",
    "    \"\"\"\n",
    "    Top-level function evaluation function.\n",
    "\n",
    "    Runs the pulse rate algorithm on the Troika dataset and returns an aggregate error metric.\n",
    "\n",
    "    Returns:\n",
    "        Pulse rate error on the Troika dataset. See AggregateErrorMetric.\n",
    "    \"\"\"\n",
    "    # Retrieve dataset files\n",
    "    data_fls, ref_fls = LoadTroikaDataset()\n",
    "    errs, confs = [], []\n",
    "    for data_fl, ref_fl in zip(data_fls, ref_fls):\n",
    "        # Run the pulse rate algorithm on each trial in the dataset\n",
    "        errors, confidence = RunPulseRateAlgorithm(data_fl, ref_fl)\n",
    "        errs.append(errors)\n",
    "        confs.append(confidence)\n",
    "        # Compute aggregate error metric\n",
    "    errs = np.hstack(errs)\n",
    "    confs = np.hstack(confs)\n",
    "    return AggregateErrorMetric(errs, confs)\n",
    "\n",
    "def RunPulseRateAlgorithm(data_fl, ref_fl):\n",
    "    # Load data using LoadTroikaDataFile\n",
    "    ppg, accx, accy, accz = LoadTroikaDataFile(data_fl)\n",
    "\n",
    "    # Compute pulse rate estimates and estimation confidence.\n",
    "\n",
    "    # Return per-estimate mean absolute error and confidence as a 2-tuple of numpy arrays.\n",
    "    errors, confidence = np.ones(100), np.ones(100)  # Dummy placeholders. Remove\n",
    "    return errors, confidence"
   ]
  },
  {
   "cell_type": "code",
   "execution_count": 4,
   "metadata": {},
   "outputs": [],
   "source": [
    "def Load_labels(data_fl,ts):\n",
    "    \"\"\"\n",
    "    Loads and extracts signals from a troika data file.\n",
    "    Perform interpolation for converting the data to the TS of the measurements\n",
    "    Args:\n",
    "        data_fl: (str) filepath to a troika .mat file.\n",
    "        ts: time stamp of the sensors measurements\n",
    "    Returns:\n",
    "        numpy arrays for ppg, accx, accy, accz signals.\n",
    "    \"\"\"\n",
    "    # as mentioed in the dataset read_me the ref value is obtained using a window of 8s and 6s overlap\n",
    "    # so we can assume that the sample freq of the ref data is 2s\n",
    "    fs_labels=2\n",
    "    data = sp.io.loadmat(data_fl)['BPM0']\n",
    "    ts_labels=np.arange(0,len(data)/fs_labels,1/fs_labels)\n",
    "    labels_interp=np.interp(ts,ts_labels,data[:,0])\n",
    "    return labels_interp"
   ]
  },
  {
   "cell_type": "code",
   "execution_count": 5,
   "metadata": {},
   "outputs": [],
   "source": [
    "\n",
    "def butter_bandpass(data,rang,fs):\n",
    "    results={}\n",
    "    zeros,poles=sg.butter(5,rang,btype=\"bandpass\",fs=fs)\n",
    "    for key in data :\n",
    "        results[key]=sg.filtfilt(zeros,poles,data[key])\n",
    "    return results\n",
    "    "
   ]
  },
  {
   "cell_type": "code",
   "execution_count": 6,
   "metadata": {},
   "outputs": [],
   "source": [
    "def fft_sensors(data,fs):\n",
    "    ff_data={}\n",
    "    for key in data :\n",
    "        ff_freq=np.fft.rfftfreq(len(data[key]),1./fs)\n",
    "        ff_power=np.fft.rfft(data[key])\n",
    "        ff_data[key]=np.array([ff_freq,ff_power])\n",
    "    return ff_data\n",
    "def fft_inv(fftdata):\n",
    "    data={}\n",
    "    for key in fftdata :\n",
    "        data[key]=np.fft.irfft(fftdata[key][1])\n",
    "    return data"
   ]
  },
  {
   "cell_type": "code",
   "execution_count": 7,
   "metadata": {},
   "outputs": [],
   "source": [
    "def vizualize_spectugram(data_dict_td,ts,wind_title,ylim=(0,6),nfft=1000,overlap=875):\n",
    "    data={}\n",
    "    fs=125\n",
    "    len_dict=len(data_dict_td)\n",
    "    plt.clf\n",
    "    fig,ax=plt.subplots(len_dict,1,figsize=(10,6*len_dict))\n",
    "    fig.canvas.set_window_title(wind_title)\n",
    "    ax=ax.flatten()\n",
    "    for key,axes in zip(data_dict_td,ax):\n",
    "        tss=np.arange(0,len(data_dict_td[key]),1/fs)\n",
    "        spec,freqs,_,_=axes.specgram(data_dict_td[key],Fs=fs,NFFT=nfft,noverlap=overlap, xextent=(0, tss[-1]),pad_to=1024)\n",
    "        data[key]=(spec,freqs)\n",
    "        axes.set_ylim(ylim)\n",
    "        axes.set_ylabel('%s Frequency (Hz)'%key)\n",
    "        #axes.set_xlabel('Time (sec)')\n",
    "    return data"
   ]
  },
  {
   "cell_type": "code",
   "execution_count": 8,
   "metadata": {},
   "outputs": [],
   "source": [
    "def vizualize_data(data_dict_fs,wind_title,xlim,type=\"freq\"):\n",
    "    len_dict=len(data_dict_fs)\n",
    "    plt.clf\n",
    "    fig,ax=plt.subplots(len_dict,1,figsize=(10,6*len_dict))\n",
    "    fig.canvas.set_window_title(wind_title)\n",
    "    ax=ax.flatten()\n",
    "    for key,axes in zip(data_dict_fs,ax):\n",
    "        if type==\"freq\":\n",
    "            power=np.abs(data_dict_fs[key][1])\n",
    "            freqs=np.abs(data_dict_fs[key][0])\n",
    "            axes.plot(freqs,power,label=key)\n",
    "            axes.set_xlabel(key)\n",
    "            axes.set_xlim(xlim)\n",
    "            axes.legend()\n",
    "        else:\n",
    "            axes.plot(data_dict_fs[key],label=key)\n",
    "            axes.set_xlabel(key)\n",
    "            axes.set_xlim(xlim)\n",
    "            axes.legend()\n",
    "            \n",
    "        #axes.set_xlabel('Time (sec)')"
   ]
  },
  {
   "cell_type": "code",
   "execution_count": 9,
   "metadata": {},
   "outputs": [],
   "source": [
    "import copy"
   ]
  },
  {
   "cell_type": "code",
   "execution_count": null,
   "metadata": {},
   "outputs": [],
   "source": [
    "def load_all_dataset(data_fls,ref_fls):\n",
    "    '''\n",
    "    Load data, labels from all files, split, shuffle\n",
    "    return samples and their labels\n",
    "    each sample is a Xs window with overlab of Xs \n",
    "    '''\n",
    "    return x,y"
   ]
  },
  {
   "cell_type": "code",
   "execution_count": 49,
   "metadata": {},
   "outputs": [
    {
     "data": {
      "text/plain": [
       "(37937, 37937, 37937, 37937, 37937)"
      ]
     },
     "execution_count": 49,
     "metadata": {},
     "output_type": "execute_result"
    }
   ],
   "source": [
    "##Reading ref and sensors data, create timestamp for both\n",
    "\n",
    "data_fls, ref_fls = LoadTroikaDataset()\n",
    "\n",
    "ppg, accx, accy, accz = LoadTroikaDataFile(data_fls[0])\n",
    "fs=125.\n",
    "ts=np.arange(0,len(ppg)/fs,1/fs)\n",
    "labels=Load_labels(ref_fls[0],ts)\n",
    "len(ppg),len(accx),len(accy),len(accz),len(labels)"
   ]
  },
  {
   "cell_type": "code",
   "execution_count": 63,
   "metadata": {},
   "outputs": [],
   "source": [
    "res_tes=[np.mean(labels[i*125:i*125+125])/60. for i in range(int(len(labels)/125.))]"
   ]
  },
  {
   "cell_type": "code",
   "execution_count": 64,
   "metadata": {},
   "outputs": [
    {
     "data": {
      "text/plain": [
       "[1.267300245887308,\n",
       " 1.2463866902654865,\n",
       " 1.2034962818458392,\n",
       " 1.2295367817768734,\n",
       " 1.285642727343025,\n",
       " 1.301714516075459,\n",
       " 1.1910260453301298,\n",
       " 1.211119127790551,\n",
       " 1.3362633668324613,\n",
       " 1.3938854127308504,\n",
       " 1.4665787777590222,\n",
       " 1.5474754834943902,\n",
       " 1.6204215918471039,\n",
       " 1.690105082318241,\n",
       " 1.720474900865822,\n",
       " 1.7182091600594207,\n",
       " 1.739822189918643,\n",
       " 1.8082247961179223,\n",
       " 1.8587913064780035,\n",
       " 1.8811598836663845,\n",
       " 1.907298489109658,\n",
       " 1.9341743284373651,\n",
       " 1.9762111757609078,\n",
       " 2.032788311560399,\n",
       " 2.0980915839141443,\n",
       " 2.178728165575082,\n",
       " 2.2554357775492937,\n",
       " 2.3145506942390264,\n",
       " 2.3606715295150775,\n",
       " 2.383439527876827,\n",
       " 2.3916814710953096,\n",
       " 2.404299308473547,\n",
       " 2.42959129318736,\n",
       " 2.4719525652202345,\n",
       " 2.5198142234664265,\n",
       " 2.560565926669031,\n",
       " 2.585873176956391,\n",
       " 2.587357483164811,\n",
       " 2.5790279351538037,\n",
       " 2.5829293092889665,\n",
       " 2.584658353773705,\n",
       " 2.5721045284972246,\n",
       " 2.5593494138569666,\n",
       " 2.5437720742647167,\n",
       " 2.5278547749298266,\n",
       " 2.5275798822961733,\n",
       " 2.533333967454995,\n",
       " 2.5293094581473707,\n",
       " 2.5259152875956796,\n",
       " 2.527279233226836,\n",
       " 2.522619498711003,\n",
       " 2.515234857860281,\n",
       " 2.506645054754505,\n",
       " 2.493514372381535,\n",
       " 2.489498311005483,\n",
       " 2.5045412847143047,\n",
       " 2.543427140500184,\n",
       " 2.585936683755846,\n",
       " 2.6266958832420664,\n",
       " 2.657878388979231,\n",
       " 2.6852936138171475,\n",
       " 2.7018318517375812,\n",
       " 2.710870254215235,\n",
       " 2.7145109975556,\n",
       " 2.720829436263801,\n",
       " 2.7393070376409843,\n",
       " 2.7558659996755073,\n",
       " 2.755958489807141,\n",
       " 2.7401655893058185,\n",
       " 2.716173163120863,\n",
       " 2.6771897514793768,\n",
       " 2.6263234460062743,\n",
       " 2.594159192221788,\n",
       " 2.57347028728847,\n",
       " 2.5703463203463213,\n",
       " 2.5703463203463213,\n",
       " 2.5703463203463213,\n",
       " 2.5703463203463213,\n",
       " 2.5703463203463213,\n",
       " 2.5703463203463213,\n",
       " 2.5703463203463213,\n",
       " 2.5703463203463213,\n",
       " 2.5703463203463213,\n",
       " 2.5703463203463213,\n",
       " 2.5703463203463213,\n",
       " 2.5703463203463213,\n",
       " 2.5703463203463213,\n",
       " 2.5703463203463213,\n",
       " 2.5703463203463213,\n",
       " 2.5703463203463213,\n",
       " 2.5703463203463213,\n",
       " 2.5703463203463213,\n",
       " 2.5703463203463213,\n",
       " 2.5703463203463213,\n",
       " 2.5703463203463213,\n",
       " 2.5703463203463213,\n",
       " 2.5703463203463213,\n",
       " 2.5703463203463213,\n",
       " 2.5703463203463213,\n",
       " 2.5703463203463213,\n",
       " 2.5703463203463213,\n",
       " 2.5703463203463213,\n",
       " 2.5703463203463213,\n",
       " 2.5703463203463213,\n",
       " 2.5703463203463213,\n",
       " 2.5703463203463213,\n",
       " 2.5703463203463213,\n",
       " 2.5703463203463213,\n",
       " 2.5703463203463213,\n",
       " 2.5703463203463213,\n",
       " 2.5703463203463213,\n",
       " 2.5703463203463213,\n",
       " 2.5703463203463213,\n",
       " 2.5703463203463213,\n",
       " 2.5703463203463213,\n",
       " 2.5703463203463213,\n",
       " 2.5703463203463213,\n",
       " 2.5703463203463213,\n",
       " 2.5703463203463213,\n",
       " 2.5703463203463213,\n",
       " 2.5703463203463213,\n",
       " 2.5703463203463213,\n",
       " 2.5703463203463213,\n",
       " 2.5703463203463213,\n",
       " 2.5703463203463213,\n",
       " 2.5703463203463213,\n",
       " 2.5703463203463213,\n",
       " 2.5703463203463213,\n",
       " 2.5703463203463213,\n",
       " 2.5703463203463213,\n",
       " 2.5703463203463213,\n",
       " 2.5703463203463213,\n",
       " 2.5703463203463213,\n",
       " 2.5703463203463213,\n",
       " 2.5703463203463213,\n",
       " 2.5703463203463213,\n",
       " 2.5703463203463213,\n",
       " 2.5703463203463213,\n",
       " 2.5703463203463213,\n",
       " 2.5703463203463213,\n",
       " 2.5703463203463213,\n",
       " 2.5703463203463213,\n",
       " 2.5703463203463213,\n",
       " 2.5703463203463213,\n",
       " 2.5703463203463213,\n",
       " 2.5703463203463213,\n",
       " 2.5703463203463213,\n",
       " 2.5703463203463213,\n",
       " 2.5703463203463213,\n",
       " 2.5703463203463213,\n",
       " 2.5703463203463213,\n",
       " 2.5703463203463213,\n",
       " 2.5703463203463213,\n",
       " 2.5703463203463213,\n",
       " 2.5703463203463213,\n",
       " 2.5703463203463213,\n",
       " 2.5703463203463213,\n",
       " 2.5703463203463213,\n",
       " 2.5703463203463213,\n",
       " 2.5703463203463213,\n",
       " 2.5703463203463213,\n",
       " 2.5703463203463213,\n",
       " 2.5703463203463213,\n",
       " 2.5703463203463213,\n",
       " 2.5703463203463213,\n",
       " 2.5703463203463213,\n",
       " 2.5703463203463213,\n",
       " 2.5703463203463213,\n",
       " 2.5703463203463213,\n",
       " 2.5703463203463213,\n",
       " 2.5703463203463213,\n",
       " 2.5703463203463213,\n",
       " 2.5703463203463213,\n",
       " 2.5703463203463213,\n",
       " 2.5703463203463213,\n",
       " 2.5703463203463213,\n",
       " 2.5703463203463213,\n",
       " 2.5703463203463213,\n",
       " 2.5703463203463213,\n",
       " 2.5703463203463213,\n",
       " 2.5703463203463213,\n",
       " 2.5703463203463213,\n",
       " 2.5703463203463213,\n",
       " 2.5703463203463213,\n",
       " 2.5703463203463213,\n",
       " 2.5703463203463213,\n",
       " 2.5703463203463213,\n",
       " 2.5703463203463213,\n",
       " 2.5703463203463213,\n",
       " 2.5703463203463213,\n",
       " 2.5703463203463213,\n",
       " 2.5703463203463213,\n",
       " 2.5703463203463213,\n",
       " 2.5703463203463213,\n",
       " 2.5703463203463213,\n",
       " 2.5703463203463213,\n",
       " 2.5703463203463213,\n",
       " 2.5703463203463213,\n",
       " 2.5703463203463213,\n",
       " 2.5703463203463213,\n",
       " 2.5703463203463213,\n",
       " 2.5703463203463213,\n",
       " 2.5703463203463213,\n",
       " 2.5703463203463213,\n",
       " 2.5703463203463213,\n",
       " 2.5703463203463213,\n",
       " 2.5703463203463213,\n",
       " 2.5703463203463213,\n",
       " 2.5703463203463213,\n",
       " 2.5703463203463213,\n",
       " 2.5703463203463213,\n",
       " 2.5703463203463213,\n",
       " 2.5703463203463213,\n",
       " 2.5703463203463213,\n",
       " 2.5703463203463213,\n",
       " 2.5703463203463213,\n",
       " 2.5703463203463213,\n",
       " 2.5703463203463213,\n",
       " 2.5703463203463213,\n",
       " 2.5703463203463213,\n",
       " 2.5703463203463213,\n",
       " 2.5703463203463213,\n",
       " 2.5703463203463213,\n",
       " 2.5703463203463213,\n",
       " 2.5703463203463213,\n",
       " 2.5703463203463213,\n",
       " 2.5703463203463213,\n",
       " 2.5703463203463213,\n",
       " 2.5703463203463213,\n",
       " 2.5703463203463213,\n",
       " 2.5703463203463213,\n",
       " 2.5703463203463213,\n",
       " 2.5703463203463213,\n",
       " 2.5703463203463213,\n",
       " 2.5703463203463213,\n",
       " 2.5703463203463213,\n",
       " 2.5703463203463213,\n",
       " 2.5703463203463213,\n",
       " 2.5703463203463213,\n",
       " 2.5703463203463213,\n",
       " 2.5703463203463213,\n",
       " 2.5703463203463213,\n",
       " 2.5703463203463213,\n",
       " 2.5703463203463213,\n",
       " 2.5703463203463213,\n",
       " 2.5703463203463213,\n",
       " 2.5703463203463213,\n",
       " 2.5703463203463213,\n",
       " 2.5703463203463213,\n",
       " 2.5703463203463213,\n",
       " 2.5703463203463213,\n",
       " 2.5703463203463213,\n",
       " 2.5703463203463213,\n",
       " 2.5703463203463213,\n",
       " 2.5703463203463213,\n",
       " 2.5703463203463213,\n",
       " 2.5703463203463213,\n",
       " 2.5703463203463213,\n",
       " 2.5703463203463213,\n",
       " 2.5703463203463213,\n",
       " 2.5703463203463213,\n",
       " 2.5703463203463213,\n",
       " 2.5703463203463213,\n",
       " 2.5703463203463213,\n",
       " 2.5703463203463213,\n",
       " 2.5703463203463213,\n",
       " 2.5703463203463213,\n",
       " 2.5703463203463213,\n",
       " 2.5703463203463213,\n",
       " 2.5703463203463213,\n",
       " 2.5703463203463213,\n",
       " 2.5703463203463213,\n",
       " 2.5703463203463213,\n",
       " 2.5703463203463213,\n",
       " 2.5703463203463213,\n",
       " 2.5703463203463213,\n",
       " 2.5703463203463213,\n",
       " 2.5703463203463213,\n",
       " 2.5703463203463213,\n",
       " 2.5703463203463213,\n",
       " 2.5703463203463213,\n",
       " 2.5703463203463213,\n",
       " 2.5703463203463213,\n",
       " 2.5703463203463213,\n",
       " 2.5703463203463213,\n",
       " 2.5703463203463213,\n",
       " 2.5703463203463213,\n",
       " 2.5703463203463213,\n",
       " 2.5703463203463213,\n",
       " 2.5703463203463213,\n",
       " 2.5703463203463213,\n",
       " 2.5703463203463213,\n",
       " 2.5703463203463213,\n",
       " 2.5703463203463213,\n",
       " 2.5703463203463213,\n",
       " 2.5703463203463213,\n",
       " 2.5703463203463213,\n",
       " 2.5703463203463213,\n",
       " 2.5703463203463213,\n",
       " 2.5703463203463213,\n",
       " 2.5703463203463213,\n",
       " 2.5703463203463213,\n",
       " 2.5703463203463213]"
      ]
     },
     "execution_count": 64,
     "metadata": {},
     "output_type": "execute_result"
    }
   ],
   "source": [
    "res_tes"
   ]
  },
  {
   "cell_type": "markdown",
   "metadata": {},
   "source": [
    "Pack all data into single dictionary"
   ]
  },
  {
   "cell_type": "code",
   "execution_count": 11,
   "metadata": {},
   "outputs": [],
   "source": [
    "#create dictionary for all the data , filter the data with bandpass in 0.67-6Hz\n",
    "sensors_data={\"ppg\":ppg,\"accx\":accx,\"accy\":accy,\"accz\":accz}"
   ]
  },
  {
   "cell_type": "markdown",
   "metadata": {},
   "source": [
    "Filter frequencies between 40-240 PBM"
   ]
  },
  {
   "cell_type": "code",
   "execution_count": 12,
   "metadata": {},
   "outputs": [],
   "source": [
    "\n",
    "data_filtered=butter_bandpass(sensors_data,(0.6,4),fs)"
   ]
  },
  {
   "cell_type": "code",
   "execution_count": 13,
   "metadata": {
    "scrolled": true
   },
   "outputs": [],
   "source": [
    "##convert to freq domain and visualize \n",
    "fft_data=fft_sensors(data_filtered,fs)\n",
    "##get the most powerful frequencies in the acceleromenter\n",
    "fft_acc_sum=fft_data['accx'][1]+fft_data['accy'][1]+fft_data['accz'][1]\n",
    "fft_acc_sum/=3.\n",
    "#scale down most affeted frequencies by acc\n",
    "fft_filtered_data=copy.deepcopy(fft_data)\n",
    "fft_filtered_data['ppg'][1][(-fft_acc_sum).argsort()[:200]]*=0.1\n",
    "#back to time domain\n",
    "filtered_from_acc_data=fft_inv(fft_filtered_data)"
   ]
  },
  {
   "cell_type": "code",
   "execution_count": 14,
   "metadata": {},
   "outputs": [],
   "source": [
    "#do visualization here\n",
    "\n",
    "#Spectugram visualizations\n",
    "spec_raw=vizualize_spectugram(sensors_data,ts,\n",
    "                     wind_title=\"raw_data\",\n",
    "                     ylim=(0,6))\n",
    "spec_filtered=vizualize_spectugram(data_filtered,ts,\n",
    "                     wind_title=\"0.5-6.0Hz filtered\",\n",
    "                     ylim=(0,6))\n",
    "spec_acc_freqs_removed=vizualize_spectugram(filtered_from_acc_data,ts,\n",
    "                     wind_title=\"powerful_acc_freqs_filtered\",\n",
    "                     ylim=(0,6))\n"
   ]
  },
  {
   "cell_type": "code",
   "execution_count": null,
   "metadata": {
    "scrolled": true
   },
   "outputs": [],
   "source": []
  },
  {
   "cell_type": "code",
   "execution_count": 16,
   "metadata": {},
   "outputs": [],
   "source": [
    "spec_filtered_acc=copy.deepcopy(spec_filtered)\n",
    "accel_ccc_spec=spec_filtered['accx'][0]+spec_filtered['accy'][0]+spec_filtered['accz'][0]\n",
    "acc_powerful_freqs_in_each_window=[]\n",
    "n_freq=4\n",
    "for ind in range(accel_ccc_spec.shape[1]):\n",
    "    window= accel_ccc_spec[:,ind]\n",
    "    window_strong_freqs_indexes=(-window).argsort()[:n_freq]\n",
    "    spec_filtered_acc['ppg'][0][:,ind][window_strong_freqs_indexes]*=0.1\n",
    "    \n",
    "    "
   ]
  },
  {
   "cell_type": "code",
   "execution_count": 17,
   "metadata": {},
   "outputs": [
    {
     "data": {
      "text/plain": [
       "(513,)"
      ]
     },
     "execution_count": 17,
     "metadata": {},
     "output_type": "execute_result"
    }
   ],
   "source": [
    "spec_filtered['ppg'][1].shape"
   ]
  },
  {
   "cell_type": "code",
   "execution_count": 18,
   "metadata": {
    "scrolled": true
   },
   "outputs": [],
   "source": [
    "pred=spec_filtered['ppg'][1][accel_ccc_spec.argmax(axis=0)]\n"
   ]
  },
  {
   "cell_type": "code",
   "execution_count": 20,
   "metadata": {},
   "outputs": [
    {
     "data": {
      "text/plain": [
       "array([0.61035156, 0.61035156, 0.73242188, 0.73242188, 0.73242188,\n",
       "       0.73242188, 0.9765625 , 0.9765625 , 0.9765625 , 0.9765625 ,\n",
       "       0.85449219, 0.73242188, 0.73242188, 0.73242188, 0.85449219,\n",
       "       0.85449219, 0.85449219, 1.83105469, 1.83105469, 1.34277344,\n",
       "       1.34277344, 1.22070312, 1.22070312, 0.9765625 , 1.09863281,\n",
       "       1.09863281, 0.9765625 , 0.9765625 , 0.9765625 , 1.22070312,\n",
       "       1.22070312, 1.22070312, 0.73242188, 0.73242188, 0.73242188,\n",
       "       0.73242188, 0.85449219, 1.953125  , 1.953125  , 1.953125  ,\n",
       "       1.953125  , 2.68554688, 2.68554688, 2.68554688, 2.68554688,\n",
       "       2.68554688, 2.68554688, 2.68554688, 2.56347656, 2.56347656,\n",
       "       2.56347656, 2.56347656, 2.56347656, 2.68554688, 2.68554688,\n",
       "       2.68554688, 2.68554688, 2.56347656, 2.56347656, 2.56347656,\n",
       "       2.56347656, 2.56347656, 2.56347656, 2.56347656, 2.68554688,\n",
       "       2.68554688, 2.56347656, 2.56347656, 2.56347656, 2.56347656,\n",
       "       2.56347656, 2.56347656, 2.56347656, 2.68554688, 2.68554688,\n",
       "       2.68554688, 2.68554688, 2.56347656, 2.56347656, 2.56347656,\n",
       "       2.68554688, 2.68554688, 2.68554688, 2.56347656, 2.56347656,\n",
       "       2.56347656, 2.56347656, 2.68554688, 2.68554688, 2.68554688,\n",
       "       2.68554688, 2.68554688, 2.80761719, 2.80761719, 2.80761719,\n",
       "       2.80761719, 2.80761719, 2.80761719, 2.80761719, 2.80761719,\n",
       "       2.80761719, 2.80761719, 2.9296875 , 2.9296875 , 2.9296875 ,\n",
       "       1.46484375, 2.9296875 , 2.9296875 , 2.9296875 , 2.9296875 ,\n",
       "       2.9296875 , 2.9296875 , 2.9296875 , 2.9296875 , 2.9296875 ,\n",
       "       2.9296875 , 2.9296875 , 1.46484375, 2.9296875 , 2.9296875 ,\n",
       "       2.9296875 , 2.9296875 , 2.9296875 , 2.9296875 , 2.9296875 ,\n",
       "       2.9296875 , 2.9296875 , 2.9296875 , 2.9296875 , 2.9296875 ,\n",
       "       2.9296875 , 2.9296875 , 2.9296875 , 2.9296875 , 2.9296875 ,\n",
       "       2.9296875 , 2.9296875 , 2.9296875 , 2.9296875 , 2.9296875 ,\n",
       "       2.9296875 , 2.9296875 , 2.9296875 , 2.9296875 , 2.9296875 ,\n",
       "       3.05175781, 3.05175781, 3.05175781, 3.05175781, 3.05175781,\n",
       "       3.05175781, 3.05175781, 2.9296875 , 2.9296875 , 2.9296875 ,\n",
       "       1.46484375, 1.46484375, 1.46484375, 1.46484375, 2.80761719,\n",
       "       2.80761719, 2.80761719, 2.80761719, 2.80761719, 2.80761719,\n",
       "       2.80761719, 1.34277344, 1.34277344, 2.68554688, 2.68554688,\n",
       "       2.68554688, 2.80761719, 2.80761719, 2.80761719, 2.68554688,\n",
       "       2.68554688, 2.68554688, 2.68554688, 2.68554688, 2.68554688,\n",
       "       2.68554688, 2.68554688, 2.68554688, 2.68554688, 2.68554688,\n",
       "       2.68554688, 2.68554688, 2.68554688, 2.80761719, 2.80761719,\n",
       "       2.80761719, 2.80761719, 2.80761719, 2.80761719, 2.80761719,\n",
       "       2.68554688, 2.68554688, 2.68554688, 2.68554688, 2.68554688,\n",
       "       2.80761719, 2.68554688, 2.68554688, 2.56347656, 2.56347656,\n",
       "       2.68554688, 2.68554688, 2.68554688, 2.68554688, 2.68554688,\n",
       "       2.68554688, 2.68554688, 2.68554688, 2.68554688, 2.80761719,\n",
       "       2.80761719, 2.80761719, 2.9296875 , 2.9296875 , 2.9296875 ,\n",
       "       2.80761719, 2.80761719, 2.80761719, 2.9296875 , 2.9296875 ,\n",
       "       2.9296875 , 2.9296875 , 2.9296875 , 2.9296875 , 2.9296875 ,\n",
       "       2.9296875 , 2.9296875 , 2.9296875 , 2.9296875 , 2.9296875 ,\n",
       "       2.9296875 , 2.9296875 , 2.9296875 , 2.9296875 , 2.9296875 ,\n",
       "       2.9296875 , 2.9296875 , 2.9296875 , 2.9296875 , 2.9296875 ,\n",
       "       2.9296875 , 2.9296875 , 2.9296875 , 2.9296875 , 2.9296875 ,\n",
       "       2.9296875 , 2.9296875 , 2.9296875 , 2.9296875 , 2.9296875 ,\n",
       "       2.9296875 , 2.9296875 , 2.9296875 , 2.9296875 , 2.9296875 ,\n",
       "       2.9296875 , 2.9296875 , 2.9296875 , 2.9296875 , 2.9296875 ,\n",
       "       2.9296875 , 2.9296875 , 2.9296875 , 2.80761719, 2.80761719,\n",
       "       2.80761719, 2.9296875 , 2.9296875 , 3.05175781, 2.80761719,\n",
       "       1.46484375, 0.85449219, 0.85449219, 0.73242188, 0.73242188,\n",
       "       0.73242188, 0.73242188, 0.73242188, 0.73242188, 0.73242188,\n",
       "       0.73242188, 1.46484375, 1.46484375, 1.46484375, 1.70898438,\n",
       "       1.953125  , 1.83105469, 2.68554688, 2.68554688, 1.34277344,\n",
       "       0.73242188])"
      ]
     },
     "execution_count": 20,
     "metadata": {},
     "output_type": "execute_result"
    }
   ],
   "source": [
    "pred"
   ]
  },
  {
   "cell_type": "code",
   "execution_count": 21,
   "metadata": {},
   "outputs": [
    {
     "data": {
      "text/plain": [
       "2.4178994668496623"
      ]
     },
     "execution_count": 21,
     "metadata": {},
     "output_type": "execute_result"
    }
   ],
   "source": [
    "pred.mean()"
   ]
  },
  {
   "cell_type": "code",
   "execution_count": 22,
   "metadata": {},
   "outputs": [
    {
     "data": {
      "text/plain": [
       "array([2.9296875 , 2.9296875 , 2.9296875 , 2.9296875 , 2.9296875 ,\n",
       "       2.9296875 , 2.9296875 , 2.9296875 , 2.9296875 , 2.9296875 ,\n",
       "       2.9296875 , 2.9296875 , 2.9296875 , 2.9296875 , 2.9296875 ,\n",
       "       2.9296875 , 2.9296875 , 2.9296875 , 2.9296875 , 2.9296875 ,\n",
       "       2.9296875 , 2.9296875 , 2.80761719, 2.80761719, 2.80761719,\n",
       "       2.9296875 , 2.9296875 , 3.05175781, 2.80761719, 1.46484375,\n",
       "       0.85449219, 0.85449219, 0.73242188, 0.73242188, 0.73242188,\n",
       "       0.73242188, 0.73242188, 0.73242188, 0.73242188, 0.73242188,\n",
       "       1.46484375, 1.46484375, 1.46484375, 1.70898438, 1.953125  ,\n",
       "       1.83105469, 2.68554688, 2.68554688, 1.34277344, 0.73242188])"
      ]
     },
     "execution_count": 22,
     "metadata": {},
     "output_type": "execute_result"
    }
   ],
   "source": [
    "pred[-50:]"
   ]
  },
  {
   "cell_type": "code",
   "execution_count": 23,
   "metadata": {},
   "outputs": [],
   "source": [
    "labels/=60.0\n"
   ]
  },
  {
   "cell_type": "markdown",
   "metadata": {},
   "source": [
    "ended here  create rolling window over labels to conver to 1 s measurement"
   ]
  },
  {
   "cell_type": "code",
   "execution_count": null,
   "metadata": {
    "scrolled": true
   },
   "outputs": [],
   "source": [
    "labels.mean()"
   ]
  },
  {
   "cell_type": "code",
   "execution_count": null,
   "metadata": {
    "scrolled": true
   },
   "outputs": [],
   "source": [
    "plt.plot(spec_filtered['ppg'][1],spec_filtered['ppg'][0][:,0])"
   ]
  },
  {
   "cell_type": "code",
   "execution_count": null,
   "metadata": {},
   "outputs": [],
   "source": [
    "#Freq visualizations\n",
    "#%matplotlib inline\n",
    "vizualize_data(fft_data,\n",
    "               wind_title=\"Freq Domain\",\n",
    "               xlim=(0,6)\n",
    "              )\n",
    "vizualize_data(fft_filtered_data,\n",
    "               wind_title=\"PPG filtered from powerful acc freqs\",\n",
    "               xlim=(0,6)\n",
    "              )"
   ]
  },
  {
   "cell_type": "code",
   "execution_count": null,
   "metadata": {},
   "outputs": [],
   "source": [
    "vizualize_data(data_filtered,\n",
    "               wind_title=\"time filtered Domain\",\n",
    "              xlim=(0,10000),\n",
    "               type=\"time\"\n",
    "              )"
   ]
  },
  {
   "cell_type": "code",
   "execution_count": null,
   "metadata": {},
   "outputs": [],
   "source": [
    "vizualize_data(filtered_from_acc_data,\n",
    "               wind_title=\"time acc removed Domain\",\n",
    "              xlim=(0,10000),\n",
    "               type=\"time\"\n",
    "              )"
   ]
  },
  {
   "cell_type": "markdown",
   "metadata": {},
   "source": [
    "-----\n",
    "### Project Write-up\n",
    "\n",
    "Answer the following prompts to demonstrate understanding of the algorithm you wrote for this specific context.\n",
    "\n",
    "> - **Code Description** - Include details so someone unfamiliar with your project will know how to run your code and use your algorithm. \n",
    "> - **Data Description** - Describe the dataset that was used to train and test the algorithm. Include its short-comings and what data would be required to build a more complete dataset.\n",
    "> - **Algorithhm Description** will include the following:\n",
    ">   - how the algorithm works\n",
    ">   - the specific aspects of the physiology that it takes advantage of\n",
    ">   - a describtion of the algorithm outputs\n",
    ">   - caveats on algorithm outputs \n",
    ">   - common failure modes\n",
    "> - **Algorithm Performance** - Detail how performance was computed (eg. using cross-validation or train-test split) and what metrics were optimized for. Include error metrics that would be relevant to users of your algorithm. Caveat your performance numbers by acknowledging how generalizable they may or may not be on different datasets.\n",
    "\n",
    "Your write-up goes here..."
   ]
  },
  {
   "cell_type": "markdown",
   "metadata": {},
   "source": [
    "-----\n",
    "### Next Steps\n",
    "You will now go to **Test Your Algorithm** (back in the Project Classroom) to apply a unit test to confirm that your algorithm met the success criteria. "
   ]
  }
 ],
 "metadata": {
  "kernelspec": {
   "display_name": "Python 3",
   "language": "python",
   "name": "python3"
  },
  "language_info": {
   "codemirror_mode": {
    "name": "ipython",
    "version": 3
   },
   "file_extension": ".py",
   "mimetype": "text/x-python",
   "name": "python",
   "nbconvert_exporter": "python",
   "pygments_lexer": "ipython3",
   "version": "3.7.6"
  }
 },
 "nbformat": 4,
 "nbformat_minor": 4
}
